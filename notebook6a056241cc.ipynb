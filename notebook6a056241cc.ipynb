{
  "metadata": {
    "kernelspec": {
      "language": "python",
      "display_name": "Python 3",
      "name": "python3"
    },
    "language_info": {
      "name": "python",
      "version": "3.10.14",
      "mimetype": "text/x-python",
      "codemirror_mode": {
        "name": "ipython",
        "version": 3
      },
      "pygments_lexer": "ipython3",
      "nbconvert_exporter": "python",
      "file_extension": ".py"
    },
    "kaggle": {
      "accelerator": "none",
      "dataSources": [],
      "dockerImageVersionId": 30786,
      "isInternetEnabled": true,
      "language": "python",
      "sourceType": "notebook",
      "isGpuEnabled": false
    },
    "colab": {
      "name": "notebook6a056241cc",
      "provenance": [],
      "include_colab_link": true
    }
  },
  "nbformat_minor": 0,
  "nbformat": 4,
  "cells": [
    {
      "cell_type": "markdown",
      "metadata": {
        "id": "view-in-github",
        "colab_type": "text"
      },
      "source": [
        "<a href=\"https://colab.research.google.com/github/Rinnah31/Evaluation_final/blob/main/notebook6a056241cc.ipynb\" target=\"_parent\"><img src=\"https://colab.research.google.com/assets/colab-badge.svg\" alt=\"Open In Colab\"/></a>"
      ]
    },
    {
      "cell_type": "code",
      "source": [
        "import os\n",
        "import pandas as pd\n",
        "import numpy as np\n",
        "import random\n",
        "import seaborn as sns\n",
        "import matplotlib.pyplot as plt\n",
        "from sklearn.model_selection import train_test_split\n",
        "from sklearn.ensemble import RandomForestRegressor\n",
        "from sklearn.metrics import mean_absolute_error, mean_squared_error, r2_score\n",
        "from datetime import datetime, timedelta"
      ],
      "metadata": {
        "_uuid": "8f2839f25d086af736a60e9eeb907d3b93b6e0e5",
        "_cell_guid": "b1076dfc-b9ad-4769-8c92-a6c4dae69d19",
        "trusted": true,
        "execution": {
          "iopub.status.busy": "2024-11-07T16:14:56.762059Z",
          "iopub.execute_input": "2024-11-07T16:14:56.762525Z",
          "iopub.status.idle": "2024-11-07T16:14:56.771206Z",
          "shell.execute_reply.started": "2024-11-07T16:14:56.762484Z",
          "shell.execute_reply": "2024-11-07T16:14:56.769764Z"
        },
        "id": "eY9Z0xw_abY_"
      },
      "outputs": [],
      "execution_count": 34
    },
    {
      "cell_type": "code",
      "source": [
        "np.random.seed(42)\n",
        "random.seed(42)\n",
        "\n",
        "# Number of samples\n",
        "num_samples = 1000\n",
        "\n",
        "# Generate synthetic dataset\n",
        "data ={\n",
        "    'Date': pd.date_range(start='2023-01-01', periods=100, freq='D'),\n",
        "    'Sales': np.random.randint(100, 500, size=100),\n",
        "    'Customers': np.random.randint(50, 150, size=100),\n",
        "    'StoreType': np.random.choice(['A', 'B', 'C', 'D'], size=100),\n",
        "    'Assortment': np.random.choice(['Basic', 'Extra', 'Extended'], size=100)\n",
        "}\n",
        "\n",
        "# Create a DataFrame\n",
        "df = pd.DataFrame(data)\n",
        "# Define file path\n",
        "file_path = 'sales_data.csv'\n",
        "\n",
        "# Save the DataFrame to a CSV file\n",
        "df.to_csv(file_path, index=False)\n",
        "\n",
        "print(f\"Dataset saved as '{file_path}'\")"
      ],
      "metadata": {
        "trusted": true,
        "execution": {
          "iopub.status.busy": "2024-11-07T16:14:56.773332Z",
          "iopub.execute_input": "2024-11-07T16:14:56.773779Z",
          "iopub.status.idle": "2024-11-07T16:14:56.789692Z",
          "shell.execute_reply.started": "2024-11-07T16:14:56.773737Z",
          "shell.execute_reply": "2024-11-07T16:14:56.788491Z"
        },
        "colab": {
          "base_uri": "https://localhost:8080/"
        },
        "id": "_zB3YLh_abZF",
        "outputId": "9bfc3fa5-edd7-4c88-bf58-e8ce3f901e25"
      },
      "outputs": [
        {
          "output_type": "stream",
          "name": "stdout",
          "text": [
            "Dataset saved as 'sales_data.csv'\n"
          ]
        }
      ],
      "execution_count": 35
    },
    {
      "cell_type": "code",
      "source": [
        "# Import Data\n",
        "# Check if the file exists\n",
        "if os.path.exists(file_path):\n",
        "    # Load data\n",
        "    data = pd.read_csv(file_path)\n",
        "else:\n",
        "    print(f\"File not found: {file_path}\")"
      ],
      "metadata": {
        "id": "zPqcNU1lcVct"
      },
      "execution_count": 36,
      "outputs": []
    },
    {
      "cell_type": "code",
      "source": [
        "# Describe Data\n",
        "# Show basic statistics and info\n",
        "print(data.info())\n",
        "print(data.describe())"
      ],
      "metadata": {
        "colab": {
          "base_uri": "https://localhost:8080/"
        },
        "id": "FatOonYAce0q",
        "outputId": "dc860667-9cca-4151-8bda-78c7c852daa7"
      },
      "execution_count": 37,
      "outputs": [
        {
          "output_type": "stream",
          "name": "stdout",
          "text": [
            "<class 'pandas.core.frame.DataFrame'>\n",
            "RangeIndex: 100 entries, 0 to 99\n",
            "Data columns (total 5 columns):\n",
            " #   Column      Non-Null Count  Dtype \n",
            "---  ------      --------------  ----- \n",
            " 0   Date        100 non-null    object\n",
            " 1   Sales       100 non-null    int64 \n",
            " 2   Customers   100 non-null    int64 \n",
            " 3   StoreType   100 non-null    object\n",
            " 4   Assortment  100 non-null    object\n",
            "dtypes: int64(2), object(3)\n",
            "memory usage: 4.0+ KB\n",
            "None\n",
            "            Sales   Customers\n",
            "count  100.000000  100.000000\n",
            "mean   311.720000   97.370000\n",
            "std    113.458227   30.293399\n",
            "min    101.000000   50.000000\n",
            "25%    205.750000   76.000000\n",
            "50%    315.000000   93.500000\n",
            "75%    408.250000  122.500000\n",
            "max    489.000000  148.000000\n"
          ]
        }
      ]
    },
    {
      "cell_type": "code",
      "source": [
        "data = pd.read_csv('sales_data.csv')\n",
        "#used for loading data sets"
      ],
      "metadata": {
        "trusted": true,
        "execution": {
          "iopub.status.busy": "2024-11-07T16:14:56.790915Z",
          "iopub.execute_input": "2024-11-07T16:14:56.79129Z",
          "iopub.status.idle": "2024-11-07T16:14:56.999412Z",
          "shell.execute_reply.started": "2024-11-07T16:14:56.791251Z",
          "shell.execute_reply": "2024-11-07T16:14:56.995891Z"
        },
        "id": "ax0je9LLabZF"
      },
      "outputs": [],
      "execution_count": 38
    },
    {
      "cell_type": "code",
      "source": [
        "print(data.columns)\n"
      ],
      "metadata": {
        "colab": {
          "base_uri": "https://localhost:8080/"
        },
        "id": "VPCEH7Q5dNDU",
        "outputId": "2253c0cf-9045-4aed-b7ca-92ed9600a07a"
      },
      "execution_count": 39,
      "outputs": [
        {
          "output_type": "stream",
          "name": "stdout",
          "text": [
            "Index(['Date', 'Sales', 'Customers', 'StoreType', 'Assortment'], dtype='object')\n"
          ]
        }
      ]
    },
    {
      "cell_type": "code",
      "source": [
        "import pandas as pd\n",
        "\n",
        "# Example data\n",
        "data = {'Date': ['2023-01-01', '2023-01-02', '2023-01-03']}\n",
        "df = pd.DataFrame(data)\n",
        "\n",
        "# Convert 'Date' column to datetime format\n",
        "df['Date'] = pd.to_datetime(df['Date'], format='%Y-%m-%d', errors='raise')\n",
        "\n",
        "print(df)\n"
      ],
      "metadata": {
        "colab": {
          "base_uri": "https://localhost:8080/"
        },
        "id": "kuECGvFz2p7U",
        "outputId": "8d9b7897-4d06-454b-c382-b485989a844d"
      },
      "execution_count": 40,
      "outputs": [
        {
          "output_type": "stream",
          "name": "stdout",
          "text": [
            "        Date\n",
            "0 2023-01-01\n",
            "1 2023-01-02\n",
            "2 2023-01-03\n"
          ]
        }
      ]
    },
    {
      "cell_type": "code",
      "source": [
        "import pandas as pd\n",
        "\n",
        "# Your existing data\n",
        "data = {'Date': ['2023-01-01', '2023-01-02', '2023-01-03']}\n",
        "\n",
        "# Convert the dictionary to a Pandas DataFrame\n",
        "data = pd.DataFrame(data)\n",
        "\n",
        "# Convert the 'Date' column to datetime\n",
        "data['Date'] = pd.to_datetime(data['Date'], format='%Y-%m-%d', errors='raise')\n",
        "\n",
        "# Now you can access datetime properties using .dt\n",
        "data['Year'] = data['Date'].dt.year\n",
        "data['Month'] = data['Date'].dt.month\n",
        "data['Day'] = data['Date'].dt.day\n",
        "data['DayOfWeek'] = data['Date'].dt.dayofweek\n",
        "\n",
        "print(data)"
      ],
      "metadata": {
        "trusted": true,
        "execution": {
          "iopub.status.busy": "2024-11-07T16:14:57.000548Z",
          "iopub.status.idle": "2024-11-07T16:14:57.001065Z",
          "shell.execute_reply.started": "2024-11-07T16:14:57.000787Z",
          "shell.execute_reply": "2024-11-07T16:14:57.000847Z"
        },
        "colab": {
          "base_uri": "https://localhost:8080/"
        },
        "id": "m50OjF9aabZH",
        "outputId": "3ecbcb38-024e-4b8a-c2e1-964ee58e8d2b"
      },
      "outputs": [
        {
          "output_type": "stream",
          "name": "stdout",
          "text": [
            "        Date  Year  Month  Day  DayOfWeek\n",
            "0 2023-01-01  2023      1    1          6\n",
            "1 2023-01-02  2023      1    2          0\n",
            "2 2023-01-03  2023      1    3          1\n"
          ]
        }
      ],
      "execution_count": 41
    },
    {
      "cell_type": "code",
      "source": [
        "#datetime operations\n",
        "today = datetime.now()\n",
        "data['DaysFromToday'] = (today - data['Date']).dt.days  # Days from today to each date\n",
        "data['NextWeek'] = data['Date'] + timedelta(weeks=1)     # Date one week ahead"
      ],
      "metadata": {
        "trusted": true,
        "execution": {
          "iopub.status.busy": "2024-11-07T16:14:57.003702Z",
          "iopub.status.idle": "2024-11-07T16:14:57.004458Z",
          "shell.execute_reply.started": "2024-11-07T16:14:57.004098Z",
          "shell.execute_reply": "2024-11-07T16:14:57.00413Z"
        },
        "id": "1YwTm5d8abZH"
      },
      "outputs": [],
      "execution_count": 42
    },
    {
      "cell_type": "code",
      "source": [
        "#slicing data for certain year\n",
        "march_data = data[(data['Year'] == 2023) & (data['Month'] == 3)]"
      ],
      "metadata": {
        "trusted": true,
        "execution": {
          "iopub.status.busy": "2024-11-07T16:14:57.006419Z",
          "iopub.status.idle": "2024-11-07T16:14:57.007045Z",
          "shell.execute_reply.started": "2024-11-07T16:14:57.006773Z",
          "shell.execute_reply": "2024-11-07T16:14:57.006818Z"
        },
        "id": "UMnur5UrabZI"
      },
      "outputs": [],
      "execution_count": 43
    },
    {
      "cell_type": "code",
      "source": [
        "#slicing based on condition\n",
        "import pandas as pd\n",
        "from datetime import datetime, timedelta\n",
        "\n",
        "# Your existing data\n",
        "data = {'Date': ['2023-01-01', '2023-01-02', '2023-01-03']}\n",
        "\n",
        "# Convert the dictionary to a Pandas DataFrame\n",
        "data = pd.DataFrame(data)\n",
        "\n",
        "# Convert the 'Date' column to datetime\n",
        "data['Date'] = pd.to_datetime(data['Date'], format='%Y-%m-%d', errors='raise')\n",
        "\n",
        "# Now you can access datetime properties using .dt\n",
        "data['Year'] = data['Date'].dt.year\n",
        "data['Month'] = data['Date'].dt.month\n",
        "data['Day'] = data['Date'].dt.day\n",
        "data['DayOfWeek'] = data['Date'].dt.dayofweek\n",
        "\n",
        "# **Add a 'Sales' column to your DataFrame**\n",
        "# You can replace this with your actual sales data\n",
        "import numpy as np  # Import numpy for generating random data\n",
        "data['Sales'] = np.random.randint(100, 1000, size=len(data)) # Example: Random sales data\n",
        "\n",
        "#datetime operations\n",
        "today = datetime.now()\n",
        "data['DaysFromToday'] = (today - data['Date']).dt.days  # Days from today to each date\n",
        "data['NextWeek'] = data['Date'] + timedelta(weeks=1)     # Date one week ahead\n",
        "\n",
        "#slicing data for certain year\n",
        "march_data = data[(data['Year'] == 2023) & (data['Month'] == 3)]\n",
        "\n",
        "#slicing based on condition\n",
        "high_sales_data = data[data['Sales'] > data['Sales'].quantile(0.9)]\n",
        "\n",
        "print(high_sales_data)"
      ],
      "metadata": {
        "trusted": true,
        "execution": {
          "iopub.status.busy": "2024-11-07T16:14:57.008771Z",
          "iopub.status.idle": "2024-11-07T16:14:57.009246Z",
          "shell.execute_reply.started": "2024-11-07T16:14:57.00902Z",
          "shell.execute_reply": "2024-11-07T16:14:57.009042Z"
        },
        "colab": {
          "base_uri": "https://localhost:8080/"
        },
        "id": "qJxTLmfKabZI",
        "outputId": "5dc361db-1ec8-4096-d43b-171e4246e07e"
      },
      "outputs": [
        {
          "output_type": "stream",
          "name": "stdout",
          "text": [
            "        Date  Year  Month  Day  DayOfWeek  Sales  DaysFromToday   NextWeek\n",
            "1 2023-01-02  2023      1    2          0    669            675 2023-01-09\n"
          ]
        }
      ],
      "execution_count": 46
    },
    {
      "cell_type": "code",
      "source": [
        "# Add a 'Customers' column to the DataFrame if it doesn't exist\n",
        "# Replace this with your actual customer data if available\n",
        "\n",
        "# Option 1: If you have the actual customer data:\n",
        "# data['Customers'] = your_customer_data\n",
        "\n",
        "# Option 2: If you want to generate random data for demonstration:\n",
        "import numpy as np\n",
        "data['Customers'] = np.random.randint(1, 50, size=len(data))  # Example: Random customer data\n",
        "\n",
        "# Then proceed with the grouping and aggregation\n",
        "grouped_data = data.groupby(['Year', 'Month']).agg({'Sales': 'mean', 'Customers': 'mean'}).reset_index()\n",
        "print(\"Grouped Data (Year, Month):\\n\", grouped_data.head())"
      ],
      "metadata": {
        "trusted": true,
        "execution": {
          "iopub.status.busy": "2024-11-07T16:14:57.010378Z",
          "iopub.status.idle": "2024-11-07T16:14:57.010955Z",
          "shell.execute_reply.started": "2024-11-07T16:14:57.010663Z",
          "shell.execute_reply": "2024-11-07T16:14:57.010693Z"
        },
        "colab": {
          "base_uri": "https://localhost:8080/"
        },
        "id": "q_XeH9d0abZJ",
        "outputId": "ea22e30f-d76a-4712-8b73-b48594e602d5"
      },
      "outputs": [
        {
          "output_type": "stream",
          "name": "stdout",
          "text": [
            "Grouped Data (Year, Month):\n",
            "    Year  Month       Sales  Customers\n",
            "0  2023      1  585.333333  36.666667\n"
          ]
        }
      ],
      "execution_count": 48
    },
    {
      "cell_type": "code",
      "source": [
        "#\n",
        "stacked_data = grouped_data.set_index(['Year', 'Month']).stack()      # Stack columns\n",
        "print(\"Stacked Data:\\n\", stacked_data.head())"
      ],
      "metadata": {
        "trusted": true,
        "execution": {
          "iopub.status.busy": "2024-11-07T16:14:57.013581Z",
          "iopub.status.idle": "2024-11-07T16:14:57.014154Z",
          "shell.execute_reply.started": "2024-11-07T16:14:57.013907Z",
          "shell.execute_reply": "2024-11-07T16:14:57.013934Z"
        },
        "colab": {
          "base_uri": "https://localhost:8080/"
        },
        "id": "XcXwfyKTabZK",
        "outputId": "de36102b-6ce5-4d72-c64d-f04ec6e18a0a"
      },
      "outputs": [
        {
          "output_type": "stream",
          "name": "stdout",
          "text": [
            "Stacked Data:\n",
            " Year  Month           \n",
            "2023  1      Sales        585.333333\n",
            "             Customers     36.666667\n",
            "dtype: float64\n"
          ]
        }
      ],
      "execution_count": 49
    },
    {
      "cell_type": "code",
      "source": [
        "unstacked_data = stacked_data.unstack()                               # Unstack the stacked columns\n",
        "print(\"Unstacked Data:\\n\", unstacked_data.head())"
      ],
      "metadata": {
        "trusted": true,
        "execution": {
          "iopub.status.busy": "2024-11-07T16:14:57.015856Z",
          "iopub.status.idle": "2024-11-07T16:14:57.016553Z",
          "shell.execute_reply.started": "2024-11-07T16:14:57.016315Z",
          "shell.execute_reply": "2024-11-07T16:14:57.016338Z"
        },
        "colab": {
          "base_uri": "https://localhost:8080/"
        },
        "id": "YnnNPwSAabZK",
        "outputId": "e5bee46d-7e12-440c-b61c-80ca5944ff37"
      },
      "outputs": [
        {
          "output_type": "stream",
          "name": "stdout",
          "text": [
            "Unstacked Data:\n",
            "                  Sales  Customers\n",
            "Year Month                       \n",
            "2023 1      585.333333  36.666667\n"
          ]
        }
      ],
      "execution_count": 50
    },
    {
      "cell_type": "code",
      "source": [
        "# Swapping levels after stacking to demonstrate multi-level index manipulation\n",
        "swapped_data = stacked_data.swaplevel().sort_index()\n",
        "print(\"Swapped Levels in Data:\\n\", swapped_data.head())"
      ],
      "metadata": {
        "trusted": true,
        "execution": {
          "iopub.status.busy": "2024-11-07T16:14:57.018075Z",
          "iopub.status.idle": "2024-11-07T16:14:57.018495Z",
          "shell.execute_reply.started": "2024-11-07T16:14:57.018282Z",
          "shell.execute_reply": "2024-11-07T16:14:57.018303Z"
        },
        "colab": {
          "base_uri": "https://localhost:8080/"
        },
        "id": "mfipVGhMabZL",
        "outputId": "6f5de89a-6721-47fc-b901-634408e7a74c"
      },
      "outputs": [
        {
          "output_type": "stream",
          "name": "stdout",
          "text": [
            "Swapped Levels in Data:\n",
            " Year             Month\n",
            "2023  Customers  1         36.666667\n",
            "      Sales      1        585.333333\n",
            "dtype: float64\n"
          ]
        }
      ],
      "execution_count": 51
    },
    {
      "cell_type": "code",
      "source": [
        "# Drop the original Date column if not needed for further analysis\n",
        "data.drop('Date', axis=1, inplace=True)\n"
      ],
      "metadata": {
        "trusted": true,
        "execution": {
          "iopub.status.busy": "2024-11-07T16:14:57.019875Z",
          "iopub.status.idle": "2024-11-07T16:14:57.02034Z",
          "shell.execute_reply.started": "2024-11-07T16:14:57.020122Z",
          "shell.execute_reply": "2024-11-07T16:14:57.020145Z"
        },
        "id": "TMt_zJqbabZL"
      },
      "outputs": [],
      "execution_count": 52
    },
    {
      "cell_type": "code",
      "source": [
        "# Handle Missing Values (if any)\n",
        "data.fillna(method='ffill', inplace=True)  # Forward fill as an example\n"
      ],
      "metadata": {
        "trusted": true,
        "execution": {
          "iopub.status.busy": "2024-11-07T16:14:57.022359Z",
          "iopub.status.idle": "2024-11-07T16:14:57.022933Z",
          "shell.execute_reply.started": "2024-11-07T16:14:57.022637Z",
          "shell.execute_reply": "2024-11-07T16:14:57.022661Z"
        },
        "colab": {
          "base_uri": "https://localhost:8080/"
        },
        "id": "je561SrwabZL",
        "outputId": "757db4ca-90c5-4329-cfc7-a35872ac0827"
      },
      "outputs": [
        {
          "output_type": "stream",
          "name": "stderr",
          "text": [
            "<ipython-input-53-9b72d62036af>:2: FutureWarning: DataFrame.fillna with 'method' is deprecated and will raise in a future version. Use obj.ffill() or obj.bfill() instead.\n",
            "  data.fillna(method='ffill', inplace=True)  # Forward fill as an example\n"
          ]
        }
      ],
      "execution_count": 53
    },
    {
      "cell_type": "code",
      "source": [
        "# Encoding Categorical Variables\n",
        "# Check if the columns exist in your DataFrame\n",
        "print(data.columns)\n",
        "\n",
        "# Correct the column names if needed, ensuring they match the DataFrame\n",
        "# For example, if the actual column names are 'store_type' and 'assortment_type':\n",
        "data = pd.get_dummies(data, columns=data.select_dtypes(include=['object', 'category']).columns.tolist())\n",
        "# or data = pd.get_dummies(data, columns=data.select_dtypes(include=['object', 'category']).columns.tolist())\n",
        "# to encode all categorical variables"
      ],
      "metadata": {
        "trusted": true,
        "execution": {
          "iopub.status.busy": "2024-11-07T16:14:57.025019Z",
          "iopub.status.idle": "2024-11-07T16:14:57.025744Z",
          "shell.execute_reply.started": "2024-11-07T16:14:57.025402Z",
          "shell.execute_reply": "2024-11-07T16:14:57.025436Z"
        },
        "colab": {
          "base_uri": "https://localhost:8080/"
        },
        "id": "JBxvkkosabZM",
        "outputId": "51f857d3-e566-467c-d7be-0704a76e9b82"
      },
      "outputs": [
        {
          "output_type": "stream",
          "name": "stdout",
          "text": [
            "Index(['Year', 'Month', 'Day', 'DayOfWeek', 'Sales', 'DaysFromToday',\n",
            "       'NextWeek', 'Customers'],\n",
            "      dtype='object')\n"
          ]
        }
      ],
      "execution_count": 56
    },
    {
      "cell_type": "code",
      "source": [
        "# Feature Scaling\n",
        "from sklearn.preprocessing import StandardScaler\n",
        "scaler = StandardScaler()\n",
        "data[['Sales', 'Customers']] = scaler.fit_transform(data[['Sales', 'Customers']])"
      ],
      "metadata": {
        "trusted": true,
        "execution": {
          "iopub.status.busy": "2024-11-07T16:14:57.028006Z",
          "iopub.status.idle": "2024-11-07T16:14:57.028512Z",
          "shell.execute_reply.started": "2024-11-07T16:14:57.028279Z",
          "shell.execute_reply": "2024-11-07T16:14:57.028301Z"
        },
        "id": "JbTl34Z3abZM"
      },
      "outputs": [],
      "execution_count": 57
    },
    {
      "cell_type": "code",
      "source": [
        "# Exploratory Data Analysis (EDA) - Sales Distribution\n",
        "sns.histplot(data['Sales'], bins=20)\n",
        "plt.title('Sales Distribution')\n",
        "plt.xlabel('Sales')\n",
        "plt.show()\n"
      ],
      "metadata": {
        "trusted": true,
        "execution": {
          "iopub.status.busy": "2024-11-07T16:14:57.030933Z",
          "iopub.status.idle": "2024-11-07T16:14:57.031428Z",
          "shell.execute_reply.started": "2024-11-07T16:14:57.031203Z",
          "shell.execute_reply": "2024-11-07T16:14:57.031225Z"
        },
        "colab": {
          "base_uri": "https://localhost:8080/",
          "height": 472
        },
        "id": "3bbbiTkXabZM",
        "outputId": "5ddcb5c1-2ae9-4e3e-e018-2f1bc67da885"
      },
      "outputs": [
        {
          "output_type": "display_data",
          "data": {
            "text/plain": [
              "<Figure size 640x480 with 1 Axes>"
            ],
            "image/png": "[encoded data removed]"
          },
          "metadata": {}
        }
      ],
      "execution_count": 58
    },
    {
      "cell_type": "code",
      "source": [
        "# Correlation Analysis - heatmap to see feature correlations\n",
        "correlation_matrix = data.corr()\n",
        "sns.heatmap(correlation_matrix, annot=True)\n",
        "plt.title('Correlation Heatmap')\n",
        "plt.show()"
      ],
      "metadata": {
        "trusted": true,
        "execution": {
          "iopub.status.busy": "2024-11-07T16:14:57.033057Z",
          "iopub.status.idle": "2024-11-07T16:14:57.033528Z",
          "shell.execute_reply.started": "2024-11-07T16:14:57.033314Z",
          "shell.execute_reply": "2024-11-07T16:14:57.033336Z"
        },
        "colab": {
          "base_uri": "https://localhost:8080/",
          "height": 548
        },
        "id": "of85yvh1abZM",
        "outputId": "3006a515-fe77-43d9-9041-c0bb77de6cfd"
      },
      "outputs": [
        {
          "output_type": "display_data",
          "data": {
            "text/plain": [
              "<Figure size 640x480 with 2 Axes>"
            ],
            "image/png": "[encoded data removed]"
          },
          "metadata": {}
        }
      ],
      "execution_count": 59
    },
    {
      "cell_type": "code",
      "source": [
        "# Split Data into Features (X) and Target (y)\n",
        "X = data.drop('Sales', axis=1)\n",
        "y = data['Sales']\n"
      ],
      "metadata": {
        "trusted": true,
        "execution": {
          "iopub.status.busy": "2024-11-07T16:14:57.034932Z",
          "iopub.status.idle": "2024-11-07T16:14:57.035435Z",
          "shell.execute_reply.started": "2024-11-07T16:14:57.035207Z",
          "shell.execute_reply": "2024-11-07T16:14:57.035231Z"
        },
        "id": "_L9CvYYrabZN"
      },
      "outputs": [],
      "execution_count": 60
    },
    {
      "cell_type": "code",
      "source": [
        "X_train, X_test, y_train, y_test = train_test_split(X, y, test_size=0.2, random_state=42)\n"
      ],
      "metadata": {
        "trusted": true,
        "execution": {
          "iopub.status.busy": "2024-11-07T16:14:57.036673Z",
          "iopub.status.idle": "2024-11-07T16:14:57.037356Z",
          "shell.execute_reply.started": "2024-11-07T16:14:57.037093Z",
          "shell.execute_reply": "2024-11-07T16:14:57.037129Z"
        },
        "id": "TgZ26LlFabZN"
      },
      "outputs": [],
      "execution_count": 61
    },
    {
      "cell_type": "code",
      "source": [
        "import pandas as pd\n",
        "from sklearn.ensemble import RandomForestRegressor\n",
        "from sklearn.model_selection import train_test_split\n",
        "# ... (your existing code) ...\n",
        "\n",
        "# Convert DateTime features to numerical representation before training\n",
        "for col in X_train.select_dtypes(include=['datetime64']).columns:\n",
        "    X_train[col] = pd.to_numeric(X_train[col])\n",
        "    X_test[col] = pd.to_numeric(X_test[col])  # Apply the same transformation to X_test\n",
        "\n",
        "# Model Training - Random Forest Regressor\n",
        "model = RandomForestRegressor(n_estimators=100, random_state=42)\n",
        "model.fit(X_train, y_train)\n"
      ],
      "metadata": {
        "trusted": true,
        "execution": {
          "iopub.status.busy": "2024-11-07T16:14:57.039221Z",
          "iopub.status.idle": "2024-11-07T16:14:57.039667Z",
          "shell.execute_reply.started": "2024-11-07T16:14:57.039458Z",
          "shell.execute_reply": "2024-11-07T16:14:57.039479Z"
        },
        "colab": {
          "base_uri": "https://localhost:8080/",
          "height": 80
        },
        "id": "y_5WcJB0abZN",
        "outputId": "51341231-a847-43f8-c0a1-8f6a402bb188"
      },
      "outputs": [
        {
          "output_type": "execute_result",
          "data": {
            "text/plain": [
              "RandomForestRegressor(random_state=42)"
            ],
            "text/html": [
              "<style>#sk-container-id-1 {\n",
              "  /* Definition of color scheme common for light and dark mode */\n",
              "  --sklearn-color-text: black;\n",
              "  --sklearn-color-line: gray;\n",
              "  /* Definition of color scheme for unfitted estimators */\n",
              "  --sklearn-color-unfitted-level-0: #fff5e6;\n",
              "  --sklearn-color-unfitted-level-1: #f6e4d2;\n",
              "  --sklearn-color-unfitted-level-2: #ffe0b3;\n",
              "  --sklearn-color-unfitted-level-3: chocolate;\n",
              "  /* Definition of color scheme for fitted estimators */\n",
              "  --sklearn-color-fitted-level-0: #f0f8ff;\n",
              "  --sklearn-color-fitted-level-1: #d4ebff;\n",
              "  --sklearn-color-fitted-level-2: #b3dbfd;\n",
              "  --sklearn-color-fitted-level-3: cornflowerblue;\n",
              "\n",
              "  /* Specific color for light theme */\n",
              "  --sklearn-color-text-on-default-background: var(--sg-text-color, var(--theme-code-foreground, var(--jp-content-font-color1, black)));\n",
              "  --sklearn-color-background: var(--sg-background-color, var(--theme-background, var(--jp-layout-color0, white)));\n",
              "  --sklearn-color-border-box: var(--sg-text-color, var(--theme-code-foreground, var(--jp-content-font-color1, black)));\n",
              "  --sklearn-color-icon: #696969;\n",
              "\n",
              "  @media (prefers-color-scheme: dark) {\n",
              "    /* Redefinition of color scheme for dark theme */\n",
              "    --sklearn-color-text-on-default-background: var(--sg-text-color, var(--theme-code-foreground, var(--jp-content-font-color1, white)));\n",
              "    --sklearn-color-background: var(--sg-background-color, var(--theme-background, var(--jp-layout-color0, #111)));\n",
              "    --sklearn-color-border-box: var(--sg-text-color, var(--theme-code-foreground, var(--jp-content-font-color1, white)));\n",
              "    --sklearn-color-icon: #878787;\n",
              "  }\n",
              "}\n",
              "\n",
              "#sk-container-id-1 {\n",
              "  color: var(--sklearn-color-text);\n",
              "}\n",
              "\n",
              "#sk-container-id-1 pre {\n",
              "  padding: 0;\n",
              "}\n",
              "\n",
              "#sk-container-id-1 input.sk-hidden--visually {\n",
              "  border: 0;\n",
              "  clip: rect(1px 1px 1px 1px);\n",
              "  clip: rect(1px, 1px, 1px, 1px);\n",
              "  height: 1px;\n",
              "  margin: -1px;\n",
              "  overflow: hidden;\n",
              "  padding: 0;\n",
              "  position: absolute;\n",
              "  width: 1px;\n",
              "}\n",
              "\n",
              "#sk-container-id-1 div.sk-dashed-wrapped {\n",
              "  border: 1px dashed var(--sklearn-color-line);\n",
              "  margin: 0 0.4em 0.5em 0.4em;\n",
              "  box-sizing: border-box;\n",
              "  padding-bottom: 0.4em;\n",
              "  background-color: var(--sklearn-color-background);\n",
              "}\n",
              "\n",
              "#sk-container-id-1 div.sk-container {\n",
              "  /* jupyter's `normalize.less` sets `[hidden] { display: none; }`\n",
              "     but bootstrap.min.css set `[hidden] { display: none !important; }`\n",
              "     so we also need the `!important` here to be able to override the\n",
              "     default hidden behavior on the sphinx rendered scikit-learn.org.\n",
              "     See: https://github.com/scikit-learn/scikit-learn/issues/21755 */\n",
              "  display: inline-block !important;\n",
              "  position: relative;\n",
              "}\n",
              "\n",
              "#sk-container-id-1 div.sk-text-repr-fallback {\n",
              "  display: none;\n",
              "}\n",
              "\n",
              "div.sk-parallel-item,\n",
              "div.sk-serial,\n",
              "div.sk-item {\n",
              "  /* draw centered vertical line to link estimators */\n",
              "  background-image: linear-gradient(var(--sklearn-color-text-on-default-background), var(--sklearn-color-text-on-default-background));\n",
              "  background-size: 2px 100%;\n",
              "  background-repeat: no-repeat;\n",
              "  background-position: center center;\n",
              "}\n",
              "\n",
              "/* Parallel-specific style estimator block */\n",
              "\n",
              "#sk-container-id-1 div.sk-parallel-item::after {\n",
              "  content: \"\";\n",
              "  width: 100%;\n",
              "  border-bottom: 2px solid var(--sklearn-color-text-on-default-background);\n",
              "  flex-grow: 1;\n",
              "}\n",
              "\n",
              "#sk-container-id-1 div.sk-parallel {\n",
              "  display: flex;\n",
              "  align-items: stretch;\n",
              "  justify-content: center;\n",
              "  background-color: var(--sklearn-color-background);\n",
              "  position: relative;\n",
              "}\n",
              "\n",
              "#sk-container-id-1 div.sk-parallel-item {\n",
              "  display: flex;\n",
              "  flex-direction: column;\n",
              "}\n",
              "\n",
              "#sk-container-id-1 div.sk-parallel-item:first-child::after {\n",
              "  align-self: flex-end;\n",
              "  width: 50%;\n",
              "}\n",
              "\n",
              "#sk-container-id-1 div.sk-parallel-item:last-child::after {\n",
              "  align-self: flex-start;\n",
              "  width: 50%;\n",
              "}\n",
              "\n",
              "#sk-container-id-1 div.sk-parallel-item:only-child::after {\n",
              "  width: 0;\n",
              "}\n",
              "\n",
              "/* Serial-specific style estimator block */\n",
              "\n",
              "#sk-container-id-1 div.sk-serial {\n",
              "  display: flex;\n",
              "  flex-direction: column;\n",
              "  align-items: center;\n",
              "  background-color: var(--sklearn-color-background);\n",
              "  padding-right: 1em;\n",
              "  padding-left: 1em;\n",
              "}\n",
              "\n",
              "\n",
              "/* Toggleable style: style used for estimator/Pipeline/ColumnTransformer box that is\n",
              "clickable and can be expanded/collapsed.\n",
              "- Pipeline and ColumnTransformer use this feature and define the default style\n",
              "- Estimators will overwrite some part of the style using the `sk-estimator` class\n",
              "*/\n",
              "\n",
              "/* Pipeline and ColumnTransformer style (default) */\n",
              "\n",
              "#sk-container-id-1 div.sk-toggleable {\n",
              "  /* Default theme specific background. It is overwritten whether we have a\n",
              "  specific estimator or a Pipeline/ColumnTransformer */\n",
              "  background-color: var(--sklearn-color-background);\n",
              "}\n",
              "\n",
              "/* Toggleable label */\n",
              "#sk-container-id-1 label.sk-toggleable__label {\n",
              "  cursor: pointer;\n",
              "  display: block;\n",
              "  width: 100%;\n",
              "  margin-bottom: 0;\n",
              "  padding: 0.5em;\n",
              "  box-sizing: border-box;\n",
              "  text-align: center;\n",
              "}\n",
              "\n",
              "#sk-container-id-1 label.sk-toggleable__label-arrow:before {\n",
              "  /* Arrow on the left of the label */\n",
              "  content: \"▸\";\n",
              "  float: left;\n",
              "  margin-right: 0.25em;\n",
              "  color: var(--sklearn-color-icon);\n",
              "}\n",
              "\n",
              "#sk-container-id-1 label.sk-toggleable__label-arrow:hover:before {\n",
              "  color: var(--sklearn-color-text);\n",
              "}\n",
              "\n",
              "/* Toggleable content - dropdown */\n",
              "\n",
              "#sk-container-id-1 div.sk-toggleable__content {\n",
              "  max-height: 0;\n",
              "  max-width: 0;\n",
              "  overflow: hidden;\n",
              "  text-align: left;\n",
              "  /* unfitted */\n",
              "  background-color: var(--sklearn-color-unfitted-level-0);\n",
              "}\n",
              "\n",
              "#sk-container-id-1 div.sk-toggleable__content.fitted {\n",
              "  /* fitted */\n",
              "  background-color: var(--sklearn-color-fitted-level-0);\n",
              "}\n",
              "\n",
              "#sk-container-id-1 div.sk-toggleable__content pre {\n",
              "  margin: 0.2em;\n",
              "  border-radius: 0.25em;\n",
              "  color: var(--sklearn-color-text);\n",
              "  /* unfitted */\n",
              "  background-color: var(--sklearn-color-unfitted-level-0);\n",
              "}\n",
              "\n",
              "#sk-container-id-1 div.sk-toggleable__content.fitted pre {\n",
              "  /* unfitted */\n",
              "  background-color: var(--sklearn-color-fitted-level-0);\n",
              "}\n",
              "\n",
              "#sk-container-id-1 input.sk-toggleable__control:checked~div.sk-toggleable__content {\n",
              "  /* Expand drop-down */\n",
              "  max-height: 200px;\n",
              "  max-width: 100%;\n",
              "  overflow: auto;\n",
              "}\n",
              "\n",
              "#sk-container-id-1 input.sk-toggleable__control:checked~label.sk-toggleable__label-arrow:before {\n",
              "  content: \"▾\";\n",
              "}\n",
              "\n",
              "/* Pipeline/ColumnTransformer-specific style */\n",
              "\n",
              "#sk-container-id-1 div.sk-label input.sk-toggleable__control:checked~label.sk-toggleable__label {\n",
              "  color: var(--sklearn-color-text);\n",
              "  background-color: var(--sklearn-color-unfitted-level-2);\n",
              "}\n",
              "\n",
              "#sk-container-id-1 div.sk-label.fitted input.sk-toggleable__control:checked~label.sk-toggleable__label {\n",
              "  background-color: var(--sklearn-color-fitted-level-2);\n",
              "}\n",
              "\n",
              "/* Estimator-specific style */\n",
              "\n",
              "/* Colorize estimator box */\n",
              "#sk-container-id-1 div.sk-estimator input.sk-toggleable__control:checked~label.sk-toggleable__label {\n",
              "  /* unfitted */\n",
              "  background-color: var(--sklearn-color-unfitted-level-2);\n",
              "}\n",
              "\n",
              "#sk-container-id-1 div.sk-estimator.fitted input.sk-toggleable__control:checked~label.sk-toggleable__label {\n",
              "  /* fitted */\n",
              "  background-color: var(--sklearn-color-fitted-level-2);\n",
              "}\n",
              "\n",
              "#sk-container-id-1 div.sk-label label.sk-toggleable__label,\n",
              "#sk-container-id-1 div.sk-label label {\n",
              "  /* The background is the default theme color */\n",
              "  color: var(--sklearn-color-text-on-default-background);\n",
              "}\n",
              "\n",
              "/* On hover, darken the color of the background */\n",
              "#sk-container-id-1 div.sk-label:hover label.sk-toggleable__label {\n",
              "  color: var(--sklearn-color-text);\n",
              "  background-color: var(--sklearn-color-unfitted-level-2);\n",
              "}\n",
              "\n",
              "/* Label box, darken color on hover, fitted */\n",
              "#sk-container-id-1 div.sk-label.fitted:hover label.sk-toggleable__label.fitted {\n",
              "  color: var(--sklearn-color-text);\n",
              "  background-color: var(--sklearn-color-fitted-level-2);\n",
              "}\n",
              "\n",
              "/* Estimator label */\n",
              "\n",
              "#sk-container-id-1 div.sk-label label {\n",
              "  font-family: monospace;\n",
              "  font-weight: bold;\n",
              "  display: inline-block;\n",
              "  line-height: 1.2em;\n",
              "}\n",
              "\n",
              "#sk-container-id-1 div.sk-label-container {\n",
              "  text-align: center;\n",
              "}\n",
              "\n",
              "/* Estimator-specific */\n",
              "#sk-container-id-1 div.sk-estimator {\n",
              "  font-family: monospace;\n",
              "  border: 1px dotted var(--sklearn-color-border-box);\n",
              "  border-radius: 0.25em;\n",
              "  box-sizing: border-box;\n",
              "  margin-bottom: 0.5em;\n",
              "  /* unfitted */\n",
              "  background-color: var(--sklearn-color-unfitted-level-0);\n",
              "}\n",
              "\n",
              "#sk-container-id-1 div.sk-estimator.fitted {\n",
              "  /* fitted */\n",
              "  background-color: var(--sklearn-color-fitted-level-0);\n",
              "}\n",
              "\n",
              "/* on hover */\n",
              "#sk-container-id-1 div.sk-estimator:hover {\n",
              "  /* unfitted */\n",
              "  background-color: var(--sklearn-color-unfitted-level-2);\n",
              "}\n",
              "\n",
              "#sk-container-id-1 div.sk-estimator.fitted:hover {\n",
              "  /* fitted */\n",
              "  background-color: var(--sklearn-color-fitted-level-2);\n",
              "}\n",
              "\n",
              "/* Specification for estimator info (e.g. \"i\" and \"?\") */\n",
              "\n",
              "/* Common style for \"i\" and \"?\" */\n",
              "\n",
              ".sk-estimator-doc-link,\n",
              "a:link.sk-estimator-doc-link,\n",
              "a:visited.sk-estimator-doc-link {\n",
              "  float: right;\n",
              "  font-size: smaller;\n",
              "  line-height: 1em;\n",
              "  font-family: monospace;\n",
              "  background-color: var(--sklearn-color-background);\n",
              "  border-radius: 1em;\n",
              "  height: 1em;\n",
              "  width: 1em;\n",
              "  text-decoration: none !important;\n",
              "  margin-left: 1ex;\n",
              "  /* unfitted */\n",
              "  border: var(--sklearn-color-unfitted-level-1) 1pt solid;\n",
              "  color: var(--sklearn-color-unfitted-level-1);\n",
              "}\n",
              "\n",
              ".sk-estimator-doc-link.fitted,\n",
              "a:link.sk-estimator-doc-link.fitted,\n",
              "a:visited.sk-estimator-doc-link.fitted {\n",
              "  /* fitted */\n",
              "  border: var(--sklearn-color-fitted-level-1) 1pt solid;\n",
              "  color: var(--sklearn-color-fitted-level-1);\n",
              "}\n",
              "\n",
              "/* On hover */\n",
              "div.sk-estimator:hover .sk-estimator-doc-link:hover,\n",
              ".sk-estimator-doc-link:hover,\n",
              "div.sk-label-container:hover .sk-estimator-doc-link:hover,\n",
              ".sk-estimator-doc-link:hover {\n",
              "  /* unfitted */\n",
              "  background-color: var(--sklearn-color-unfitted-level-3);\n",
              "  color: var(--sklearn-color-background);\n",
              "  text-decoration: none;\n",
              "}\n",
              "\n",
              "div.sk-estimator.fitted:hover .sk-estimator-doc-link.fitted:hover,\n",
              ".sk-estimator-doc-link.fitted:hover,\n",
              "div.sk-label-container:hover .sk-estimator-doc-link.fitted:hover,\n",
              ".sk-estimator-doc-link.fitted:hover {\n",
              "  /* fitted */\n",
              "  background-color: var(--sklearn-color-fitted-level-3);\n",
              "  color: var(--sklearn-color-background);\n",
              "  text-decoration: none;\n",
              "}\n",
              "\n",
              "/* Span, style for the box shown on hovering the info icon */\n",
              ".sk-estimator-doc-link span {\n",
              "  display: none;\n",
              "  z-index: 9999;\n",
              "  position: relative;\n",
              "  font-weight: normal;\n",
              "  right: .2ex;\n",
              "  padding: .5ex;\n",
              "  margin: .5ex;\n",
              "  width: min-content;\n",
              "  min-width: 20ex;\n",
              "  max-width: 50ex;\n",
              "  color: var(--sklearn-color-text);\n",
              "  box-shadow: 2pt 2pt 4pt #999;\n",
              "  /* unfitted */\n",
              "  background: var(--sklearn-color-unfitted-level-0);\n",
              "  border: .5pt solid var(--sklearn-color-unfitted-level-3);\n",
              "}\n",
              "\n",
              ".sk-estimator-doc-link.fitted span {\n",
              "  /* fitted */\n",
              "  background: var(--sklearn-color-fitted-level-0);\n",
              "  border: var(--sklearn-color-fitted-level-3);\n",
              "}\n",
              "\n",
              ".sk-estimator-doc-link:hover span {\n",
              "  display: block;\n",
              "}\n",
              "\n",
              "/* \"?\"-specific style due to the `<a>` HTML tag */\n",
              "\n",
              "#sk-container-id-1 a.estimator_doc_link {\n",
              "  float: right;\n",
              "  font-size: 1rem;\n",
              "  line-height: 1em;\n",
              "  font-family: monospace;\n",
              "  background-color: var(--sklearn-color-background);\n",
              "  border-radius: 1rem;\n",
              "  height: 1rem;\n",
              "  width: 1rem;\n",
              "  text-decoration: none;\n",
              "  /* unfitted */\n",
              "  color: var(--sklearn-color-unfitted-level-1);\n",
              "  border: var(--sklearn-color-unfitted-level-1) 1pt solid;\n",
              "}\n",
              "\n",
              "#sk-container-id-1 a.estimator_doc_link.fitted {\n",
              "  /* fitted */\n",
              "  border: var(--sklearn-color-fitted-level-1) 1pt solid;\n",
              "  color: var(--sklearn-color-fitted-level-1);\n",
              "}\n",
              "\n",
              "/* On hover */\n",
              "#sk-container-id-1 a.estimator_doc_link:hover {\n",
              "  /* unfitted */\n",
              "  background-color: var(--sklearn-color-unfitted-level-3);\n",
              "  color: var(--sklearn-color-background);\n",
              "  text-decoration: none;\n",
              "}\n",
              "\n",
              "#sk-container-id-1 a.estimator_doc_link.fitted:hover {\n",
              "  /* fitted */\n",
              "  background-color: var(--sklearn-color-fitted-level-3);\n",
              "}\n",
              "</style><div id=\"sk-container-id-1\" class=\"sk-top-container\"><div class=\"sk-text-repr-fallback\"><pre>RandomForestRegressor(random_state=42)</pre><b>In a Jupyter environment, please rerun this cell to show the HTML representation or trust the notebook. <br />On GitHub, the HTML representation is unable to render, please try loading this page with nbviewer.org.</b></div><div class=\"sk-container\" hidden><div class=\"sk-item\"><div class=\"sk-estimator fitted sk-toggleable\"><input class=\"sk-toggleable__control sk-hidden--visually\" id=\"sk-estimator-id-1\" type=\"checkbox\" checked><label for=\"sk-estimator-id-1\" class=\"sk-toggleable__label fitted sk-toggleable__label-arrow fitted\">&nbsp;&nbsp;RandomForestRegressor<a class=\"sk-estimator-doc-link fitted\" rel=\"noreferrer\" target=\"_blank\" href=\"https://scikit-learn.org/1.5/modules/generated/sklearn.ensemble.RandomForestRegressor.html\">?<span>Documentation for RandomForestRegressor</span></a><span class=\"sk-estimator-doc-link fitted\">i<span>Fitted</span></span></label><div class=\"sk-toggleable__content fitted\"><pre>RandomForestRegressor(random_state=42)</pre></div> </div></div></div></div>"
            ]
          },
          "metadata": {},
          "execution_count": 63
        }
      ],
      "execution_count": 63
    },
    {
      "cell_type": "code",
      "source": [
        "# Predictions\n",
        "y_pred = model.predict(X_test)"
      ],
      "metadata": {
        "trusted": true,
        "execution": {
          "iopub.status.busy": "2024-11-07T16:14:57.041404Z",
          "iopub.status.idle": "2024-11-07T16:14:57.041904Z",
          "shell.execute_reply.started": "2024-11-07T16:14:57.04164Z",
          "shell.execute_reply": "2024-11-07T16:14:57.041661Z"
        },
        "id": "kAQE7HzoabZO"
      },
      "outputs": [],
      "execution_count": 64
    },
    {
      "cell_type": "code",
      "source": [
        "# Evaluation\n",
        "print(f'MAE: {mean_absolute_error(y_test, y_pred):.2f}')\n",
        "print(f'MSE: {mean_squared_error(y_test, y_pred):.2f}')\n",
        "print(f'R-squared: {r2_score(y_test, y_pred):.2f}')"
      ],
      "metadata": {
        "trusted": true,
        "execution": {
          "iopub.status.busy": "2024-11-07T16:14:57.044563Z",
          "iopub.status.idle": "2024-11-07T16:14:57.04506Z",
          "shell.execute_reply.started": "2024-11-07T16:14:57.044827Z",
          "shell.execute_reply": "2024-11-07T16:14:57.04486Z"
        },
        "colab": {
          "base_uri": "https://localhost:8080/"
        },
        "id": "U3z5ks4yabZO",
        "outputId": "77f9d0d8-7622-4770-87ed-a7897001132e"
      },
      "outputs": [
        {
          "output_type": "stream",
          "name": "stdout",
          "text": [
            "MAE: 0.61\n",
            "MSE: 0.37\n",
            "R-squared: nan\n"
          ]
        },
        {
          "output_type": "stream",
          "name": "stderr",
          "text": [
            "/usr/local/lib/python3.10/dist-packages/sklearn/metrics/_regression.py:1211: UndefinedMetricWarning: R^2 score is not well-defined with less than two samples.\n",
            "  warnings.warn(msg, UndefinedMetricWarning)\n"
          ]
        }
      ],
      "execution_count": 65
    },
    {
      "cell_type": "code",
      "source": [
        "# Save the model for deployment\n",
        "import pickle\n",
        "with open('sales_model.pkl', 'wb') as file:\n",
        "    pickle.dump(model, file)\n"
      ],
      "metadata": {
        "trusted": true,
        "execution": {
          "iopub.status.busy": "2024-11-07T16:14:57.047028Z",
          "iopub.status.idle": "2024-11-07T16:14:57.047765Z",
          "shell.execute_reply.started": "2024-11-07T16:14:57.047409Z",
          "shell.execute_reply": "2024-11-07T16:14:57.04744Z"
        },
        "id": "CXGh4Jl0abZO"
      },
      "outputs": [],
      "execution_count": 66
    },
    {
      "cell_type": "code",
      "source": [
        "print(\"Model saved as 'sales_model.pkl'\")"
      ],
      "metadata": {
        "trusted": true,
        "execution": {
          "iopub.status.busy": "2024-11-07T16:14:57.049602Z",
          "iopub.status.idle": "2024-11-07T16:14:57.050229Z",
          "shell.execute_reply.started": "2024-11-07T16:14:57.049918Z",
          "shell.execute_reply": "2024-11-07T16:14:57.04995Z"
        },
        "colab": {
          "base_uri": "https://localhost:8080/"
        },
        "id": "ygx4rcXMabZP",
        "outputId": "76e49816-5f94-4877-9a5d-0bd6ec52056c"
      },
      "outputs": [
        {
          "output_type": "stream",
          "name": "stdout",
          "text": [
            "Model saved as 'sales_model.pkl'\n"
          ]
        }
      ],
      "execution_count": 67
    }
  ]
}